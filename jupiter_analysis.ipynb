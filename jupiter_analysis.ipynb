{
 "cells": [
  {
   "cell_type": "markdown",
   "metadata": {},
   "source": [
    "## Documentation on jupiter.py module and Analysis of the jupiter.db dataset.\n",
    "\n",
    "\n",
    "#### The notebook has the following structure:\n",
    "##### 1. Introduction: \n",
    "#####     &emsp; - A brief introduction to the notebook, explaining its purpose and contents (which you are reading right now).\n",
    "##### 2. Usage Explanation of jupiter Module:\n",
    "#####     &emsp; - Importing the Module: We'll start by importing the Moons class from the jupiter module.\n",
    "#####     &emsp; - Initializing the Class: Demonstrate how to initialize the Moons class with the path to the jupiter.db database.\n",
    "#####     &emsp; - Exploring the Methods: We'll go through the methods in the Moons class, demonstrating and explaining how to use each one.\n",
    "##### 3. Data Analysis:\n",
    "#####     &emsp; - We'll use the module to load and analyze the Jupiter's moons dataset. \n",
    "#####     &emsp; - This will include data loading, summary statistics, data cleaning, visualization, and trend location.\n",
    "\n"
   ]
  },
  {
   "cell_type": "markdown",
   "metadata": {},
   "source": [
    "# 2. Usage Explanation of jupiter Module:"
   ]
  },
  {
   "cell_type": "markdown",
   "metadata": {},
   "source": [
    " First, import the Moons class from the jupiter module"
   ]
  },
  {
   "cell_type": "code",
   "execution_count": 1,
   "metadata": {},
   "outputs": [
    {
     "name": "stdout",
     "output_type": "stream",
     "text": [
      "Index(['period_days', 'distance_km', 'radius_km', 'mag', 'mass_kg', 'group',\n",
      "       'ecc', 'inclination_deg'],\n",
      "      dtype='object')\n"
     ]
    }
   ],
   "source": [
    "from jupiter import Moons"
   ]
  },
  {
   "cell_type": "markdown",
   "metadata": {},
   "source": [
    "Initialize the Moons class with the path to the jupiter.db database.\n",
    "\n"
   ]
  },
  {
   "cell_type": "code",
   "execution_count": 2,
   "metadata": {},
   "outputs": [],
   "source": [
    "filepath='jupiter.db'\n",
    "moons=Moons(filepath)"
   ]
  },
  {
   "cell_type": "code",
   "execution_count": 3,
   "metadata": {},
   "outputs": [
    {
     "name": "stdout",
     "output_type": "stream",
     "text": [
      "Index(['period_days', 'distance_km', 'radius_km', 'mag', 'mass_kg', 'group',\n",
      "       'ecc', 'inclination_deg'],\n",
      "      dtype='object')\n"
     ]
    }
   ],
   "source": [
    "print(moons.data.columns)"
   ]
  },
  {
   "cell_type": "markdown",
   "metadata": {},
   "source": [
    "Now, we will explore and demonstrate methods available in the Moons class."
   ]
  },
  {
   "cell_type": "markdown",
   "metadata": {},
   "source": [
    "1. Getting summary statistics of the dataset. \n",
    "- Provides a statistical review of all the features inside the dataset.\n",
    "- This is also useful for single features as the function returns a pandas dataframe, so we can pick the ones we need."
   ]
  },
  {
   "cell_type": "code",
   "execution_count": 4,
   "metadata": {},
   "outputs": [
    {
     "name": "stdout",
     "output_type": "stream",
     "text": [
      "Summary Statistics of all dataset:\n",
      "        period_days   distance_km    radius_km        mag       mass_kg  \\\n",
      "count    56.000000  5.600000e+01    56.000000  53.000000  6.000000e+00   \n",
      "mean    525.998146  1.775655e+07   158.969643  20.418302  6.551798e+22   \n",
      "std     272.670243  8.253688e+06   557.730632   4.926587  6.010469e+22   \n",
      "min       0.290000  1.280000e+05     1.000000   4.610000  2.080000e+18   \n",
      "25%     258.750000  1.170252e+07     1.500000  20.800000  1.200276e+22   \n",
      "50%     632.500000  2.129009e+07     2.000000  22.500000  6.865891e+22   \n",
      "75%     725.500000  2.336375e+07    11.562500  23.000000  1.030252e+23   \n",
      "max     787.000000  2.458309e+07  2634.100000  23.700000  1.481900e+23   \n",
      "\n",
      "             ecc  inclination_deg  \n",
      "count  56.000000        56.000000  \n",
      "mean    0.222922       113.571607  \n",
      "std     0.126899        64.562822  \n",
      "min     0.000200         0.030000  \n",
      "25%     0.159201        30.582500  \n",
      "50%     0.228000       148.600000  \n",
      "75%     0.298858       159.175000  \n",
      "max     0.611016       166.200000  \n",
      "Summary Statistics of the 'period_days' feature:\n",
      " count     56.000000\n",
      "mean     525.998146\n",
      "std      272.670243\n",
      "min        0.290000\n",
      "25%      258.750000\n",
      "50%      632.500000\n",
      "75%      725.500000\n",
      "max      787.000000\n",
      "Name: period_days, dtype: float64\n"
     ]
    }
   ],
   "source": [
    "feature_stats= moons.summary_statistics()\n",
    "print(\"Summary Statistics of all dataset:\\n\", feature_stats)\n",
    "print(\"Summary Statistics of the 'period_days' feature:\\n\", feature_stats['period_days'])"
   ]
  },
  {
   "cell_type": "markdown",
   "metadata": {},
   "source": [
    " 2. Listing all features (columns) in the dataset\n",
    "- Returns a LIST of features in the given dataset.\n"
   ]
  },
  {
   "cell_type": "code",
   "execution_count": 5,
   "metadata": {},
   "outputs": [
    {
     "name": "stdout",
     "output_type": "stream",
     "text": [
      "Features in the dataset:\n",
      " ['period_days', 'distance_km', 'radius_km', 'mag', 'mass_kg', 'group', 'ecc', 'inclination_deg']\n"
     ]
    }
   ],
   "source": [
    "features = moons.get_features()\n",
    "print(\"Features in the dataset:\\n\", features)"
   ]
  }
 ],
 "metadata": {
  "kernelspec": {
   "display_name": "Python 3",
   "language": "python",
   "name": "python3"
  },
  "language_info": {
   "codemirror_mode": {
    "name": "ipython",
    "version": 3
   },
   "file_extension": ".py",
   "mimetype": "text/x-python",
   "name": "python",
   "nbconvert_exporter": "python",
   "pygments_lexer": "ipython3",
   "version": "3.11.7"
  }
 },
 "nbformat": 4,
 "nbformat_minor": 2
}
